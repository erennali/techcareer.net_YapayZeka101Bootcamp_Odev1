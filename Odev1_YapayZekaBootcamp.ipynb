{
 "cells": [
  {
   "cell_type": "code",
   "execution_count": 3,
   "id": "51c7ea3c-1046-4ac5-9d68-a3c1d38c67d6",
   "metadata": {},
   "outputs": [
    {
     "name": "stdin",
     "output_type": "stream",
     "text": [
      "1. sayıyı giriniz:  1\n",
      "2. sayıyı giriniz:  3\n"
     ]
    },
    {
     "name": "stdout",
     "output_type": "stream",
     "text": [
      "Sayıların toplamı :  4\n"
     ]
    }
   ],
   "source": [
    "#Soru 1 : Sayıların Toplamı\n",
    "sayi1 = int(input(\"1. sayıyı giriniz: \"))\n",
    "sayi2 = int(input(\"2. sayıyı giriniz: \"))\n",
    "print(\"Sayıların toplamı : \" , (sayi2+sayi1))"
   ]
  },
  {
   "cell_type": "code",
   "execution_count": 13,
   "id": "11d449bc-2740-4470-a69a-a98288e8fa82",
   "metadata": {},
   "outputs": [
    {
     "name": "stdin",
     "output_type": "stream",
     "text": [
      "Tam sayı giriniz:  0\n"
     ]
    },
    {
     "name": "stdout",
     "output_type": "stream",
     "text": [
      "Girdiğiniz sayı 0\n"
     ]
    }
   ],
   "source": [
    "#Soru 2 : Pozitif veya Negatif\n",
    "sayi = int(input(\"Tam sayı giriniz: \"))\n",
    "if sayi > 0 :\n",
    "    print(\"Girdiğiniz sayı pozitif\")\n",
    "elif sayi < 0 :\n",
    "    print(\"Girdiğiniz sayı negatif\")\n",
    "else :\n",
    "    print(\"Girdiğiniz sayı 0\")"
   ]
  },
  {
   "cell_type": "code",
   "execution_count": 25,
   "id": "02c943e1-a7ef-4cd6-94dd-a857fd2a6500",
   "metadata": {},
   "outputs": [
    {
     "name": "stdin",
     "output_type": "stream",
     "text": [
      "1. sayıyı giriniz:  5\n",
      "2. sayıyı giriniz:  1\n",
      "3. sayıyı giriniz:  3\n"
     ]
    },
    {
     "name": "stdout",
     "output_type": "stream",
     "text": [
      "En büyük sayı:  5\n"
     ]
    }
   ],
   "source": [
    "#Soru 3 : Pozitif veya Negatif\n",
    "sayi1 = int(input(\"1. sayıyı giriniz: \"))\n",
    "sayi2 = int(input(\"2. sayıyı giriniz: \"))\n",
    "sayi3 = int(input(\"3. sayıyı giriniz: \"))\n",
    "if sayi1 > sayi2 :\n",
    "    if sayi1 > sayi3 :\n",
    "        print(\"En büyük sayı: \",sayi1)\n",
    "    else :\n",
    "        print(\"En büyük sayı: \",sayi3)\n",
    "else :\n",
    "    if sayi2 > sayi3 :\n",
    "        print(\"En büyük sayı: \",sayi2)\n",
    "    else:\n",
    "        print(\"En büyük sayı: \",sayi3)"
   ]
  },
  {
   "cell_type": "code",
   "execution_count": 33,
   "id": "05998385-6a41-4bcb-9712-dc3ba648a998",
   "metadata": {},
   "outputs": [
    {
     "name": "stdin",
     "output_type": "stream",
     "text": [
      "Tam sayı giriniz:  9\n"
     ]
    },
    {
     "name": "stdout",
     "output_type": "stream",
     "text": [
      "Tek\n"
     ]
    }
   ],
   "source": [
    "#Soru 4 : Çift veya Tek\n",
    "sayi = int(input(\"Tam sayı giriniz: \"))\n",
    "if sayi % 2 == 0 :\n",
    "    print(\"Çift\")\n",
    "else:\n",
    "    print(\"Tek\")"
   ]
  },
  {
   "cell_type": "code",
   "execution_count": 41,
   "id": "d1c0b965-2064-4e33-b883-1e6387300f37",
   "metadata": {},
   "outputs": [
    {
     "name": "stdin",
     "output_type": "stream",
     "text": [
      "1-7 arası sayı giriniz:  7\n"
     ]
    },
    {
     "name": "stdout",
     "output_type": "stream",
     "text": [
      "Pazar\n"
     ]
    }
   ],
   "source": [
    "#Soru 5 : Haftanın Günü\n",
    "sayi = int(input(\"1-7 arası sayı giriniz: \"))\n",
    "match sayi:\n",
    "    case 1 :\n",
    "        print(\"Pazartesi\")\n",
    "    case 2 :\n",
    "        print(\"Salı\")\n",
    "    case 3 :\n",
    "        print(\"Çarşamba\")\n",
    "    case 4 :\n",
    "        print(\"Perşembe\")\n",
    "    case 5 :\n",
    "        print(\"Cuma\")\n",
    "    case 6 :\n",
    "        print(\"Cumartesi\")\n",
    "    case 7 :\n",
    "        print(\"Pazar\")\n",
    "    case _:\n",
    "        print(\"Geçersiz gün\")"
   ]
  },
  {
   "cell_type": "code",
   "execution_count": 53,
   "id": "1ec6a68b-f25e-402c-92aa-87a104790b3a",
   "metadata": {},
   "outputs": [
    {
     "name": "stdin",
     "output_type": "stream",
     "text": [
      "1. sayıyı giriniz:  3\n",
      "2. sayıyı giriniz:  2\n",
      "İşlemi seçiniz(+, -, *, /):  -\n"
     ]
    },
    {
     "name": "stdout",
     "output_type": "stream",
     "text": [
      "Sonuç:  1\n"
     ]
    }
   ],
   "source": [
    "#Soru 6: Basit Hesap Makinesi\n",
    "sayi1 = int(input(\"1. sayıyı giriniz: \"))\n",
    "sayi2 = int(input(\"2. sayıyı giriniz: \"))\n",
    "islem = input(\"İşlemi seçiniz(+, -, *, /): \")\n",
    "match islem:\n",
    "    case '+':\n",
    "        print(\"Sonuç: \",sayi1+sayi2)\n",
    "    case '-':\n",
    "        print(\"Sonuç: \",sayi1-sayi2)\n",
    "    case '*':\n",
    "        print(\"Sonuç: \",sayi1*sayi2)\n",
    "    case '/':\n",
    "        if sayi2 == 0 :\n",
    "            print(\"Sayı sıfıra bölünemez!\")\n",
    "        else:\n",
    "            print(\"Sonuç: \",sayi1/sayi2)\n",
    "    case _:\n",
    "        print(\"Geçersiz işlem!\")"
   ]
  },
  {
   "cell_type": "code",
   "execution_count": 73,
   "id": "d8745233-91f9-49e3-9f81-9eeeb26cef9e",
   "metadata": {},
   "outputs": [
    {
     "name": "stdin",
     "output_type": "stream",
     "text": [
      "Sayı giriniz:  5\n"
     ]
    },
    {
     "name": "stdout",
     "output_type": "stream",
     "text": [
      "Toplam:  15\n"
     ]
    }
   ],
   "source": [
    "#Soru 7: 1’den N’e Kadar Toplam\n",
    "sayi = int(input(\"Sayı giriniz: \"))\n",
    "toplam = 0\n",
    "if sayi < 0:\n",
    "    print(\"Pozitif sayı giriniz\")\n",
    "else:\n",
    "    for i in range(1,sayi + 1):\n",
    "        toplam += i\n",
    "    print(\"Toplam: \",toplam)"
   ]
  },
  {
   "cell_type": "code",
   "execution_count": 85,
   "id": "d72c7618-48ba-437c-8ab3-ca40ee11b359",
   "metadata": {},
   "outputs": [
    {
     "name": "stdin",
     "output_type": "stream",
     "text": [
      "Sayı giriniz:  9\n"
     ]
    },
    {
     "name": "stdout",
     "output_type": "stream",
     "text": [
      "1x9=9\n",
      "2x9=18\n",
      "3x9=27\n",
      "4x9=36\n",
      "5x9=45\n",
      "6x9=54\n",
      "7x9=63\n",
      "8x9=72\n",
      "9x9=81\n",
      "10x9=90\n"
     ]
    }
   ],
   "source": [
    "#Soru 8: Çarpım Tablosu\n",
    "sayi = int(input(\"Sayı giriniz: \"))\n",
    "\n",
    "for i in range(1,11):\n",
    "    print(f\"{i}x{sayi}={i*sayi}\")\n",
    "\n"
   ]
  },
  {
   "cell_type": "code",
   "execution_count": 91,
   "id": "fb59f380-efb6-485b-9b96-a55e3bec1288",
   "metadata": {},
   "outputs": [
    {
     "name": "stdin",
     "output_type": "stream",
     "text": [
      "1. sayıyı giriniz:  1\n",
      "2. sayıyı giriniz:  3\n",
      "3. sayıyı giriniz:  5\n",
      "4. sayıyı giriniz:  7\n",
      "5. sayıyı giriniz:  8\n"
     ]
    },
    {
     "name": "stdout",
     "output_type": "stream",
     "text": [
      "Ortalama:  4.8\n"
     ]
    }
   ],
   "source": [
    "#Soru 9: Sayıların Ortalaması\n",
    "toplam = 0\n",
    "for i in range(1,6):\n",
    "    sayi = int(input(f\"{i}. sayıyı giriniz: \"))\n",
    "    toplam += sayi\n",
    "print(\"Ortalama: \",toplam/5)"
   ]
  },
  {
   "cell_type": "code",
   "execution_count": 141,
   "id": "b378bcde-ae7c-477e-b5b5-c459ab67f500",
   "metadata": {},
   "outputs": [
    {
     "name": "stdin",
     "output_type": "stream",
     "text": [
      "Sayı giriniz:  9\n"
     ]
    },
    {
     "name": "stdout",
     "output_type": "stream",
     "text": [
      "Girdiğiniz sayı asal değil: 9\n"
     ]
    }
   ],
   "source": [
    "#Soru 10: Asal Sayı Kontrolü\n",
    "sayi = int(input(\"Sayı giriniz: \"))\n",
    "for i in range(2, sayi):\n",
    "    if sayi % i == 0:\n",
    "        print(\"Girdiğiniz sayı asal değil:\", sayi)\n",
    "        break\n",
    "else: \n",
    "    if sayi > 1:\n",
    "        print(\"Sayı asal:\", sayi)\n",
    "    else:\n",
    "        print(\"Girdiğiniz sayı asal değil:\", sayi)"
   ]
  },
  {
   "cell_type": "code",
   "execution_count": 159,
   "id": "24609b0e-1295-4491-ac66-ce888335cca7",
   "metadata": {},
   "outputs": [
    {
     "name": "stdin",
     "output_type": "stream",
     "text": [
      "Sayı giriniz:  5\n"
     ]
    },
    {
     "name": "stdout",
     "output_type": "stream",
     "text": [
      "Faktöriyel:  120\n"
     ]
    }
   ],
   "source": [
    "#Soru 11: Faktöriyel Hesaplama\n",
    "sayi = int(input(\"Sayı giriniz: \"))\n",
    "toplam = 1\n",
    "if sayi < 0:\n",
    "    print(\"Negatif sayıların faktöriyeli hesaplanamaz.\")\n",
    "elif sayi == 0:\n",
    "    print(\"0'ın faktöriyeli 1'dir.\")\n",
    "while sayi > 0:\n",
    "    toplam *= sayi\n",
    "    sayi-= 1\n",
    "print(\"Faktöriyel: \",toplam)"
   ]
  },
  {
   "cell_type": "code",
   "execution_count": 169,
   "id": "b77dade5-24e4-4708-88ab-782c138f60ac",
   "metadata": {},
   "outputs": [
    {
     "name": "stdin",
     "output_type": "stream",
     "text": [
      "1-100 arası tahmin et:  33\n"
     ]
    },
    {
     "name": "stdout",
     "output_type": "stream",
     "text": [
      "Tahminini yükselt\n"
     ]
    },
    {
     "name": "stdin",
     "output_type": "stream",
     "text": [
      "1-100 arası tahmin et:  66\n"
     ]
    },
    {
     "name": "stdout",
     "output_type": "stream",
     "text": [
      "Tahminini azalt\n"
     ]
    },
    {
     "name": "stdin",
     "output_type": "stream",
     "text": [
      "1-100 arası tahmin et:  49\n"
     ]
    },
    {
     "name": "stdout",
     "output_type": "stream",
     "text": [
      "Tahminini azalt\n"
     ]
    },
    {
     "name": "stdin",
     "output_type": "stream",
     "text": [
      "1-100 arası tahmin et:  42\n"
     ]
    },
    {
     "name": "stdout",
     "output_type": "stream",
     "text": [
      "Tahminini yükselt\n"
     ]
    },
    {
     "name": "stdin",
     "output_type": "stream",
     "text": [
      "1-100 arası tahmin et:  45\n"
     ]
    },
    {
     "name": "stdout",
     "output_type": "stream",
     "text": [
      "Doğru tahmin! :  45\n"
     ]
    }
   ],
   "source": [
    "#Soru 12: Sayı Tahmin Oyunu\n",
    "import random\n",
    "sayi = random.randint(1,100)\n",
    "while True:\n",
    "    tahmin = int(input(\"1-100 arası tahmin et: \"))\n",
    "\n",
    "    if tahmin < 1 or tahmin > 100:\n",
    "                print(\"1 ile 100 arasında bir sayı gir!\")\n",
    "                continue\n",
    "\n",
    "    \n",
    "    if tahmin > sayi:\n",
    "        print(\"Tahminini azalt\")\n",
    "    elif tahmin < sayi:\n",
    "        print(\"Tahminini yükselt\")\n",
    "    else:\n",
    "        print(\"Doğru tahmin! : \",sayi)\n",
    "        break"
   ]
  },
  {
   "cell_type": "code",
   "execution_count": 181,
   "id": "3e38cf91-bbbb-4f62-ac4d-da4c118d0450",
   "metadata": {},
   "outputs": [
    {
     "name": "stdin",
     "output_type": "stream",
     "text": [
      "Fibonacci eleman sayısı giriniz:  1\n"
     ]
    },
    {
     "name": "stdout",
     "output_type": "stream",
     "text": [
      "0 "
     ]
    }
   ],
   "source": [
    "#Soru 13: Fibonacci Serisi\n",
    "sayi = int(input(\"Fibonacci eleman sayısı giriniz: \"))\n",
    "a, b = 0, 1\n",
    "if sayi <= 0:\n",
    "    print(\"Pozitif tam sayı giriniz\")\n",
    "else:\n",
    "    for i in range(sayi):\n",
    "        print(a, end=\" \")\n",
    "        a, b = b, a+b"
   ]
  },
  {
   "cell_type": "code",
   "execution_count": 203,
   "id": "1bef4555-cb34-4be6-9414-a71770571cf4",
   "metadata": {},
   "outputs": [
    {
     "name": "stdin",
     "output_type": "stream",
     "text": [
      "Sayı giriniz:  12345\n"
     ]
    },
    {
     "name": "stdout",
     "output_type": "stream",
     "text": [
      "Sayının tersi: 54321\n"
     ]
    }
   ],
   "source": [
    "#Soru 14: Tersine Çevirme\n",
    "sayi = int(input(\"Sayı giriniz: \"))\n",
    "ters_sayi = 0\n",
    "\n",
    "if sayi < 0:\n",
    "    sayi = -sayi\n",
    "while sayi > 0:\n",
    "    son_rakam = sayi % 10 \n",
    "    ters_sayi = ters_sayi * 10 + son_rakam \n",
    "    sayi //= 10 \n",
    "print(\"Sayının tersi:\", ters_sayi)"
   ]
  },
  {
   "cell_type": "code",
   "execution_count": 201,
   "id": "84de9c8a-6c5a-435e-bfca-b15a3292f233",
   "metadata": {},
   "outputs": [
    {
     "name": "stdin",
     "output_type": "stream",
     "text": [
      "Sayı giriniz:  31\n"
     ]
    },
    {
     "name": "stdout",
     "output_type": "stream",
     "text": [
      "31 bir Armstrong sayısı değildir.\n"
     ]
    }
   ],
   "source": [
    "#Soru 15: Armstrong Sayısı\n",
    "sayi = int(input(\"Sayı giriniz: \"))\n",
    "orj_sayi = sayi\n",
    "toplam = 0\n",
    "bas_sayisi = len(str(sayi))\n",
    "\n",
    "while sayi > 0:\n",
    "    son_rakam = sayi % 10\n",
    "    toplam += son_rakam ** bas_sayisi\n",
    "    sayi //= 10\n",
    "\n",
    "print(f\"{orj_sayi} {'bir Armstrong sayısıdır' if toplam == orj_sayi else 'bir Armstrong sayısı değildir'}.\")"
   ]
  },
  {
   "cell_type": "code",
   "execution_count": 215,
   "id": "cc677a39-b5d4-40cf-925a-f2f118b519b1",
   "metadata": {},
   "outputs": [
    {
     "name": "stdout",
     "output_type": "stream",
     "text": [
      "Çiftlerin toplamı:  2550\n"
     ]
    }
   ],
   "source": [
    "#Soru 16: Çift Sayıların Toplamı\n",
    "toplam = 0\n",
    "for i in range(1,101):\n",
    "    if i % 2 == 0:\n",
    "        toplam += i\n",
    "print(\"Çiftlerin toplamı: \",toplam)"
   ]
  },
  {
   "cell_type": "code",
   "execution_count": 229,
   "id": "60adf1e6-1b99-4f62-934d-ba9729db5e30",
   "metadata": {},
   "outputs": [
    {
     "name": "stdout",
     "output_type": "stream",
     "text": [
      "Teklerin çarpımı:  945\n"
     ]
    }
   ],
   "source": [
    "#Soru 17: Tek Sayıların Çarpımı\n",
    "carpim = 1\n",
    "for i in range(1,11):\n",
    "    if i % 2 == 1:\n",
    "        carpim *= i\n",
    "print(\"Teklerin çarpımı: \",carpim)"
   ]
  },
  {
   "cell_type": "code",
   "execution_count": 1,
   "id": "3fed5c69-1a34-43ff-9fa0-625c3e76bf84",
   "metadata": {},
   "outputs": [
    {
     "name": "stdout",
     "output_type": "stream",
     "text": [
      "1 nin karesi: 1 \n",
      "2 nin karesi: 4 \n",
      "3 nin karesi: 9 \n",
      "4 nin karesi: 16 \n",
      "5 nin karesi: 25 \n",
      "6 nin karesi: 36 \n",
      "7 nin karesi: 49 \n",
      "8 nin karesi: 64 \n",
      "9 nin karesi: 81 \n",
      "10 nin karesi: 100 \n"
     ]
    }
   ],
   "source": [
    "#Soru 18: Sayıların Karesi\n",
    "for i in range(1,11):\n",
    "    print(f\"{i} nin karesi: {i*i} \")"
   ]
  },
  {
   "cell_type": "code",
   "execution_count": 1,
   "id": "84f7f3f9-ea13-4ba9-945b-a460f0dcc599",
   "metadata": {},
   "outputs": [
    {
     "name": "stdin",
     "output_type": "stream",
     "text": [
      "Şifre giriniz:  eren\n"
     ]
    },
    {
     "name": "stdout",
     "output_type": "stream",
     "text": [
      "Şifre hatalı!\n"
     ]
    },
    {
     "name": "stdin",
     "output_type": "stream",
     "text": [
      "Şifre giriniz:  nere\n"
     ]
    },
    {
     "name": "stdout",
     "output_type": "stream",
     "text": [
      "Şifre hatalı!\n"
     ]
    },
    {
     "name": "stdin",
     "output_type": "stream",
     "text": [
      "Şifre giriniz:  python123\n"
     ]
    },
    {
     "name": "stdout",
     "output_type": "stream",
     "text": [
      "Giriş başarılı\n"
     ]
    }
   ],
   "source": [
    "#Soru 19: Basit Şifre Kontrolü\n",
    "\n",
    "while True:\n",
    "    psw = input(\"Şifre giriniz: \")\n",
    "    if psw == \"python123\":\n",
    "        print(\"Giriş başarılı\")\n",
    "        break\n",
    "    print(\"Şifre hatalı!\")\n"
   ]
  },
  {
   "cell_type": "code",
   "execution_count": 5,
   "id": "8b520892-7ff8-4de8-9ac9-6d2e41a42820",
   "metadata": {},
   "outputs": [
    {
     "name": "stdin",
     "output_type": "stream",
     "text": [
      "Yaşınızı giriniz:  18\n"
     ]
    },
    {
     "name": "stdout",
     "output_type": "stream",
     "text": [
      "Reşitsiniz\n"
     ]
    }
   ],
   "source": [
    "#Soru 20: Yaş Kontrolü\n",
    "yas = int(input(\"Yaşınızı giriniz: \"))\n",
    "if yas >=18:\n",
    "    print(\"Reşitsiniz\")"
   ]
  },
  {
   "cell_type": "code",
   "execution_count": 19,
   "id": "9b196760-4dbc-452d-96da-983ec0756d33",
   "metadata": {},
   "outputs": [
    {
     "name": "stdin",
     "output_type": "stream",
     "text": [
      "1. notu giriniz:  60\n",
      "2. notu giriniz:  50\n",
      "3. notu giriniz:  55\n"
     ]
    },
    {
     "name": "stdout",
     "output_type": "stream",
     "text": [
      "Geçti: 55.0\n"
     ]
    }
   ],
   "source": [
    "#Soru 21: Not Ortalaması\n",
    "toplam = 0\n",
    "for i in range(1,4):\n",
    "    notlar = int(input(f\"{i}. notu giriniz: \"))\n",
    "    toplam += notlar\n",
    "ort = toplam/3\n",
    "print(f\"Geçti: {ort}\" if ort>50 else f\"Kaldı: {ort}\" )"
   ]
  },
  {
   "cell_type": "code",
   "execution_count": 23,
   "id": "68d018a8-4fd2-40a1-9627-bf812063b244",
   "metadata": {},
   "outputs": [
    {
     "name": "stdin",
     "output_type": "stream",
     "text": [
      "Boyunuzu giriniz(ör: 1.78):  1.89\n",
      "Kilonuzu giriniz(ör: 83):  64\n"
     ]
    },
    {
     "name": "stdout",
     "output_type": "stream",
     "text": [
      "Normalsiniz, VKİ: 17.91663167324543\n"
     ]
    }
   ],
   "source": [
    "#Soru 22: Vücut Kitle İndeksi\n",
    "boy = float(input(\"Boyunuzu giriniz(ör: 1.78): \"))\n",
    "kilo = float(input(\"Kilonuzu giriniz(ör: 83): \"))\n",
    "vki = kilo / (boy**2)\n",
    "print(f\"Kilolusunuz, VKİ: {vki}\" if vki > 25 else f\"Normalsiniz, VKİ: {vki}\")"
   ]
  },
  {
   "cell_type": "code",
   "execution_count": 27,
   "id": "d64eb172-e346-4af0-ac61-a2a55282bcfa",
   "metadata": {},
   "outputs": [
    {
     "name": "stdin",
     "output_type": "stream",
     "text": [
      "1. sayıyı giriniz:  1\n",
      "2. sayıyı giriniz:  3\n"
     ]
    },
    {
     "name": "stdout",
     "output_type": "stream",
     "text": [
      "\n",
      "İşlemler\n",
      "1. Toplama\n",
      "2. Çıkarma\n",
      "3. Çarpma\n",
      "4. Bölme\n"
     ]
    },
    {
     "name": "stdin",
     "output_type": "stream",
     "text": [
      "Yapmak istediğiniz işlemin numarasını giriniz:  3\n"
     ]
    },
    {
     "name": "stdout",
     "output_type": "stream",
     "text": [
      "1 * 3 = 3\n"
     ]
    }
   ],
   "source": [
    "#Soru 23: Dört İşlem Menüsü\n",
    "sayi1 = int(input(\"1. sayıyı giriniz: \"))\n",
    "sayi2 = int(input(\"2. sayıyı giriniz: \"))\n",
    "\n",
    "print(\"\\nİşlemler\\n1. Toplama\\n2. Çıkarma\\n3. Çarpma\\n4. Bölme\") \n",
    "secim = input(\"Yapmak istediğiniz işlemin numarasını giriniz: \")\n",
    "match secim:\n",
    "        case '1':\n",
    "            sonuc = sayi1 + sayi2\n",
    "            print(f\"{sayi1} + {sayi2} = {sonuc}\")\n",
    "        case '2':\n",
    "            sonuc = sayi1 - sayi2\n",
    "            print(f\"{sayi1} - {sayi2} = {sonuc}\")\n",
    "        case '3':\n",
    "            sonuc = sayi1 * sayi2\n",
    "            print(f\"{sayi1} * {sayi2} = {sonuc}\")\n",
    "        case '4':\n",
    "            if sayi2 == 0:\n",
    "                print(\"Sayı 0 a bölünemez!\")\n",
    "            else:\n",
    "                sonuc = sayi1 / sayi2\n",
    "                print(f\"{sayi1} / {sayi2} = {sonuc}\")\n",
    "        case _:\n",
    "            print(\"Geçersiz seçim!\")\n"
   ]
  },
  {
   "cell_type": "code",
   "execution_count": 33,
   "id": "3c8fbda9-f88e-4fa9-a155-a2898c38b977",
   "metadata": {},
   "outputs": [
    {
     "name": "stdin",
     "output_type": "stream",
     "text": [
      "1. sayıyı giriniz:  1\n",
      "2. sayıyı giriniz:  4\n",
      "3. sayıyı giriniz:  2\n",
      "4. sayıyı giriniz:  3\n"
     ]
    },
    {
     "name": "stdout",
     "output_type": "stream",
     "text": [
      "En büyük sayı:  4\n"
     ]
    }
   ],
   "source": [
    "#Soru 24: Sayıların En Küçüğü\n",
    "buyuk_sayi = 0\n",
    "for i in range(1,5):\n",
    "    sayi = int(input(f\"{i}. sayıyı giriniz: \"))\n",
    "    if sayi > buyuk_sayi :\n",
    "        buyuk_sayi = sayi\n",
    "print(\"En büyük sayı: \",buyuk_sayi)"
   ]
  },
  {
   "cell_type": "code",
   "execution_count": 49,
   "id": "6470bef5-62f6-4857-a2a9-75737111b901",
   "metadata": {},
   "outputs": [
    {
     "name": "stdin",
     "output_type": "stream",
     "text": [
      "1. sayıyı giriniz:  7\n",
      "2. sayıyı giriniz:  4\n",
      "3. sayıyı giriniz:  8\n"
     ]
    },
    {
     "name": "stdout",
     "output_type": "stream",
     "text": [
      "[4, 7, 8]\n"
     ]
    }
   ],
   "source": [
    "#Soru 25: Artan Sıralama\n",
    "sayilar = [] \n",
    "for i in range(1,4):\n",
    "    sayilar.append(int(input(f\"{i}. sayıyı giriniz: \")))\n",
    "for i in range(len(sayilar)):\n",
    "    for j in range(len(sayilar) - i - 1):\n",
    "        if sayilar[j] > sayilar[j + 1]:\n",
    "            sayilar[j], sayilar[j + 1] = sayilar[j + 1], sayilar[j]\n",
    "print(sayilar)"
   ]
  },
  {
   "cell_type": "code",
   "execution_count": 53,
   "id": "f8c71a79-f9a3-45ae-92a8-c06af6972833",
   "metadata": {},
   "outputs": [
    {
     "name": "stdin",
     "output_type": "stream",
     "text": [
      "Sayı giriniz:  4\n"
     ]
    },
    {
     "name": "stdout",
     "output_type": "stream",
     "text": [
      "1-N arası toplam:  10\n"
     ]
    }
   ],
   "source": [
    "#Soru 26: Sayıların Toplamı (While ile)\n",
    "sayi = int(input(\"Sayı giriniz: \"))\n",
    "toplam = 0\n",
    "while sayi!= 0:\n",
    "    toplam += sayi\n",
    "    sayi -= 1\n",
    "print(\"1-N arası toplam: \",toplam)"
   ]
  },
  {
   "cell_type": "code",
   "execution_count": 59,
   "id": "55de6adf-0197-4c21-9c0e-62c6453a6c03",
   "metadata": {},
   "outputs": [
    {
     "name": "stdout",
     "output_type": "stream",
     "text": [
      "120\n"
     ]
    }
   ],
   "source": [
    "#Soru 27: Sayıların Çarpımı\n",
    "carpim = 1\n",
    "for i in range(1,6):\n",
    "    carpim *= i\n",
    "print(carpim)"
   ]
  },
  {
   "cell_type": "code",
   "execution_count": 67,
   "id": "d5392018-f3af-4f4f-9a5e-9812a44adc3b",
   "metadata": {},
   "outputs": [
    {
     "name": "stdout",
     "output_type": "stream",
     "text": [
      "385\n"
     ]
    }
   ],
   "source": [
    "#Soru 28: Sayıların Karesini Toplama\n",
    "toplam = 0\n",
    "for i in range(1,11):\n",
    "    toplam += i**2\n",
    "print(toplam)"
   ]
  },
  {
   "cell_type": "code",
   "execution_count": 69,
   "id": "75366e1e-55e3-41da-aa00-18bd957b3116",
   "metadata": {},
   "outputs": [
    {
     "name": "stdin",
     "output_type": "stream",
     "text": [
      "Sayı giriniz:  3\n"
     ]
    },
    {
     "name": "stdout",
     "output_type": "stream",
     "text": [
      "36\n"
     ]
    }
   ],
   "source": [
    "#Soru 29: Sayıların Küpünü Toplama\n",
    "sayi = int(input(\"Sayı giriniz: \"))\n",
    "toplam = 0\n",
    "for i in range(1,sayi+1):\n",
    "    toplam += i**3\n",
    "print(toplam)"
   ]
  },
  {
   "cell_type": "code",
   "execution_count": 71,
   "id": "09e1a2ea-80a9-4716-858b-986f3c5d334d",
   "metadata": {},
   "outputs": [
    {
     "name": "stdout",
     "output_type": "stream",
     "text": [
      "15\n",
      "30\n",
      "45\n",
      "60\n",
      "75\n",
      "90\n",
      "Adet:  6\n"
     ]
    }
   ],
   "source": [
    "#Soru 30: Basit Sayı Sayacı\n",
    "adet = 0\n",
    "for i in range(1,101):\n",
    "    if i%5 == 0 and i%3 == 0:\n",
    "        adet += 1\n",
    "        print(i)\n",
    "print(\"Adet: \",adet)"
   ]
  },
  {
   "cell_type": "code",
   "execution_count": 81,
   "id": "3b32bef9-f625-4466-95cf-3f4858d7ed34",
   "metadata": {},
   "outputs": [
    {
     "name": "stdin",
     "output_type": "stream",
     "text": [
      "Notunuzu giriniz:  72\n"
     ]
    },
    {
     "name": "stdout",
     "output_type": "stream",
     "text": [
      "C\n"
     ]
    }
   ],
   "source": [
    "#Soru 31: Not Harfini Belirleme\n",
    "ogr_not = int(input(\"Notunuzu giriniz: \"))\n",
    "if 90 <= ogr_not <= 100: \n",
    "    print(\"A\")\n",
    "elif 80 <= ogr_not <= 89:\n",
    "    print(\"B\")\n",
    "elif 70 <= ogr_not <= 79:\n",
    "    print(\"C\")\n",
    "elif 60 <= ogr_not <= 69:\n",
    "    print(\"D\")  \n",
    "elif 0 <= ogr_not <= 59:\n",
    "    print(\"F\")\n",
    "else:\n",
    "    print(\"Geçerli not giriniz!\")"
   ]
  },
  {
   "cell_type": "code",
   "execution_count": 89,
   "id": "88ad8d9a-e452-4ba7-a636-5b3017aacea7",
   "metadata": {},
   "outputs": [
    {
     "name": "stdin",
     "output_type": "stream",
     "text": [
      "1. sayıyı giriniz:  1\n",
      "2. sayıyı giriniz:  2\n",
      "3. sayıyı giriniz:  1\n"
     ]
    },
    {
     "name": "stdout",
     "output_type": "stream",
     "text": [
      "İki sayı eşit\n"
     ]
    }
   ],
   "source": [
    "#Soru 32: Üç Sayının Karşılaştırılması\n",
    "sayi1 = int(input(\"1. sayıyı giriniz: \"))\n",
    "sayi2 = int(input(\"2. sayıyı giriniz: \"))\n",
    "sayi3 = int(input(\"3. sayıyı giriniz: \"))\n",
    "\n",
    "if sayi1 == sayi2 == sayi3:\n",
    "    print(\"Tüm sayılar eşit\")\n",
    "elif sayi1 == sayi2 or sayi1 == sayi3 or sayi2 == sayi3:\n",
    "    print(\"İki sayı eşit\")\n",
    "else:\n",
    "    print(\"Hiçbiri eşit değil\")"
   ]
  },
  {
   "cell_type": "code",
   "execution_count": 93,
   "id": "7cce3ffc-de9c-4f34-b7b5-9c5d144aba5b",
   "metadata": {},
   "outputs": [
    {
     "name": "stdin",
     "output_type": "stream",
     "text": [
      "Yıl giriniz:  346\n"
     ]
    },
    {
     "name": "stdout",
     "output_type": "stream",
     "text": [
      "346 artık yıl değildir.\n"
     ]
    }
   ],
   "source": [
    "#Soru 33: Artık Yıl Kontrolü\n",
    "yil = int(input(\"Yıl giriniz: \"))\n",
    "if (yil % 4 == 0 and yil % 100 != 0) or yil % 400 == 0:\n",
    "    print(f\"{yil} artık yıldır.\")\n",
    "else:\n",
    "    print(f\"{yil} artık yıl değildir.\")"
   ]
  },
  {
   "cell_type": "code",
   "execution_count": 95,
   "id": "540ef491-fbbb-47a8-9baf-dde623d26b01",
   "metadata": {},
   "outputs": [
    {
     "name": "stdin",
     "output_type": "stream",
     "text": [
      "Boyunuzu giriniz(ör: 1.78):  1.78\n",
      "Kilonuzu giriniz(ör: 83):  83\n"
     ]
    },
    {
     "name": "stdout",
     "output_type": "stream",
     "text": [
      "Fazla Kilolu:  26.19618735008206\n"
     ]
    }
   ],
   "source": [
    "#Soru 34: BMI Kategorisi\n",
    "boy = float(input(\"Boyunuzu giriniz(ör: 1.78): \"))\n",
    "kilo = float(input(\"Kilonuzu giriniz(ör: 83): \"))\n",
    "\n",
    "vki = kilo / (boy ** 2)\n",
    "if vki < 18.5:\n",
    "    print(\"Zayıf: \",vki)\n",
    "elif 18.5 <= vki < 25:\n",
    "    print(\"Normal: \",vki)\n",
    "elif 25 <= vki < 30:\n",
    "    print(\"Fazla Kilolu: \",vki)\n",
    "else:\n",
    "    print(\"Obez: \",vki)"
   ]
  },
  {
   "cell_type": "code",
   "execution_count": 97,
   "id": "0d61d4f3-e3d2-4dc5-bba6-c3f56b31dc86",
   "metadata": {},
   "outputs": [
    {
     "name": "stdin",
     "output_type": "stream",
     "text": [
      "1. kenarı giriniz:  6\n",
      "2. kenarı giriniz:  5\n",
      "3. kenarı giriniz:  4\n"
     ]
    },
    {
     "name": "stdout",
     "output_type": "stream",
     "text": [
      "Çeşitkenar üçgen\n"
     ]
    }
   ],
   "source": [
    "#Soru 35: Üçgen Türü Belirleme\n",
    "kenar1 = int(input(\"1. kenarı giriniz: \"))\n",
    "kenar2 = int(input(\"2. kenarı giriniz: \"))\n",
    "kenar3 = int(input(\"3. kenarı giriniz: \"))\n",
    "\n",
    "if kenar1 + kenar2 > kenar3 and kenar1 + kenar3 > kenar2 and kenar2 + kenar3 > kenar1:\n",
    "    if kenar1 == kenar2 == kenar3:\n",
    "        print(\"Eşkenar üçgen\")\n",
    "    elif kenar1 == kenar2 or kenar1 == kenar3 or kenar2 == kenar3:\n",
    "        print(\"İkizkenar üçgen\")\n",
    "    else:\n",
    "        print(\"Çeşitkenar üçgen\")\n",
    "else:\n",
    "    print(\"Üçgen değil\")"
   ]
  },
  {
   "cell_type": "code",
   "execution_count": 101,
   "id": "e92deb95-58a9-4450-980c-3f92cc26dfee",
   "metadata": {},
   "outputs": [
    {
     "name": "stdin",
     "output_type": "stream",
     "text": [
      "Yaşınızı giriniz:  21\n"
     ]
    },
    {
     "name": "stdout",
     "output_type": "stream",
     "text": [
      "Yaşınız: 21, Bilet Fiyatı: 20 TL\n"
     ]
    }
   ],
   "source": [
    "#Soru 36: Yaş ve Bilet Fiyatı\n",
    "yas = int(input(\"Yaşınızı giriniz: \"))\n",
    "\n",
    "if 0 <= yas <= 5:\n",
    "    bilet_fiyati = 0 \n",
    "elif 6 <= yas <= 18:\n",
    "    bilet_fiyati = 10  \n",
    "elif 19 <= yas <= 64:\n",
    "    bilet_fiyati = 20  \n",
    "else:  \n",
    "    bilet_fiyati = 15\n",
    "if yas < 0:\n",
    "    print(\"Geçersiz yaş girişi yaptınız.\")\n",
    "else:\n",
    "    print(f\"Yaşınız: {yas}, Bilet Fiyatı: {bilet_fiyati} TL\")"
   ]
  },
  {
   "cell_type": "code",
   "execution_count": 103,
   "id": "c5c6ab8f-7a1a-4948-9605-66bdca6029b5",
   "metadata": {},
   "outputs": [
    {
     "name": "stdin",
     "output_type": "stream",
     "text": [
      "Hava durumunu giriniz (Güneşli, Yağmurlu, Karlı):  yağmurLU\n",
      "Sıcaklığı giriniz:  1\n"
     ]
    },
    {
     "name": "stdout",
     "output_type": "stream",
     "text": [
      "Şemsiye almayı unutmayın.\n"
     ]
    }
   ],
   "source": [
    "#Soru 37: Hava Durumu Önerisi\n",
    "hava_durumu = input(\"Hava durumunu giriniz (Güneşli, Yağmurlu, Karlı): \").lower()\n",
    "sicaklik = int(input(\"Sıcaklığı giriniz: \"))\n",
    "\n",
    "if hava_durumu == \"güneşli\" and sicaklik >= 25:\n",
    "    print(\"Piknik yapabilirsiniz.\")\n",
    "elif hava_durumu == \"yağmurlu\":\n",
    "    print(\"Şemsiye almayı unutmayın.\")\n",
    "elif hava_durumu == \"karlı\" and sicaklik < 0:\n",
    "    print(\"Kayak yapmaya gidebilirsiniz.\")\n",
    "else:\n",
    "    print(\"Evde kalabilirsiniz.\")"
   ]
  },
  {
   "cell_type": "code",
   "execution_count": 111,
   "id": "36bda589-e2d0-4ca2-8f0f-e1c68fb215b5",
   "metadata": {},
   "outputs": [
    {
     "name": "stdin",
     "output_type": "stream",
     "text": [
      "Sayı giriniz:  -3\n"
     ]
    },
    {
     "name": "stdout",
     "output_type": "stream",
     "text": [
      "Negatif\n"
     ]
    }
   ],
   "source": [
    "#Soru 38: Sayının Pozitif, Negatif veya Sıfır Olup Olmadığını Kontrol Etme\n",
    "\n",
    "sayi = int(input(\"Sayı giriniz: \"))\n",
    "print(\"Pozitif\" if sayi > 0 else \"Negatif\" if sayi < 0 else \"Sıfır\")\n"
   ]
  },
  {
   "cell_type": "code",
   "execution_count": 117,
   "id": "02dd374d-dd34-4bd9-aec6-a2cf834ff212",
   "metadata": {},
   "outputs": [
    {
     "name": "stdin",
     "output_type": "stream",
     "text": [
      "1. sayıyı giriniz:  3\n",
      "2. sayıyı giriniz:  3\n"
     ]
    },
    {
     "name": "stdout",
     "output_type": "stream",
     "text": [
      "Sayılar eşit\n"
     ]
    }
   ],
   "source": [
    "#Soru 39: İki Sayının Karşılaştırılması\n",
    "sayi1 = int(input(\"1. sayıyı giriniz: \"))\n",
    "sayi2 = int(input(\"2. sayıyı giriniz: \"))\n",
    "\n",
    "print(\"Birinci sayı büyük\" if sayi1 > sayi2 else \"İkinci sayı büyük\" if sayi2 > sayi1 else \"Sayılar eşit\")"
   ]
  },
  {
   "cell_type": "code",
   "execution_count": 121,
   "id": "1ccaccf4-18a4-4106-9bcb-59b293ee33b8",
   "metadata": {},
   "outputs": [
    {
     "name": "stdin",
     "output_type": "stream",
     "text": [
      "Alışveriş tutarınızı giriniz:  100\n",
      "Üye misiniz? (evet/hayır):  hayır\n"
     ]
    },
    {
     "name": "stdout",
     "output_type": "stream",
     "text": [
      "Alışveriş Tutarınız: 100.0 TL, Uygulanan İndirim: 5.0 TL, İndirimli Tutar: 95.0 TL\n"
     ]
    }
   ],
   "source": [
    "#Soru 40: Üyelik Durumu ve İndirim\n",
    "alisveris_tutari = float(input(\"Alışveriş tutarınızı giriniz: \"))\n",
    "uyelik_durumu = input(\"Üye misiniz? (evet/hayır): \").lower()\n",
    "\n",
    "indirim_orani = 0.10 if uyelik_durumu == \"evet\" else 0.05 if uyelik_durumu == \"hayır\" else None\n",
    "\n",
    "if indirim_orani is not None:\n",
    "    indirim_tutari = alisveris_tutari * indirim_orani\n",
    "    indirimli_tutar = alisveris_tutari - indirim_tutari\n",
    "    print(f\"Alışveriş Tutarınız: {alisveris_tutari} TL, Uygulanan İndirim: {indirim_tutari} TL, İndirimli Tutar: {indirimli_tutar} TL\")\n",
    "else:\n",
    "    print(\"Geçersiz üyelik durumu girişi yaptınız.\")"
   ]
  },
  {
   "cell_type": "code",
   "execution_count": null,
   "id": "a786eb92-f993-4b20-a376-b9c58d3cab37",
   "metadata": {},
   "outputs": [],
   "source": []
  }
 ],
 "metadata": {
  "kernelspec": {
   "display_name": "Python [conda env:base] *",
   "language": "python",
   "name": "conda-base-py"
  },
  "language_info": {
   "codemirror_mode": {
    "name": "ipython",
    "version": 3
   },
   "file_extension": ".py",
   "mimetype": "text/x-python",
   "name": "python",
   "nbconvert_exporter": "python",
   "pygments_lexer": "ipython3",
   "version": "3.12.7"
  }
 },
 "nbformat": 4,
 "nbformat_minor": 5
}
